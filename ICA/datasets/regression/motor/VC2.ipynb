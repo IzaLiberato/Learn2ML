{
 "cells": [
  {
   "cell_type": "code",
   "execution_count": 6,
   "metadata": {},
   "outputs": [],
   "source": [
    "from PIL import Image\n",
    "\n",
    "# Carregue a imagem existente\n",
    "imagem = Image.open('imagem_invertida.png')\n",
    "\n",
    "# Converta a imagem para o modo RGBA (RGB + canal alfa)\n",
    "imagem = imagem.convert('RGBA')\n",
    "\n",
    "# Obtenha os pixels da imagem\n",
    "pixels = imagem.getdata()\n",
    "\n",
    "# Crie uma nova imagem com fundo transparente\n",
    "nova_imagem = []\n",
    "for pixel in pixels:\n",
    "    r, g, b, a = pixel\n",
    "    # Defina o canal alfa para 0 (transparente) para pixels com tons próximos de branco\n",
    "    if r > 200 and g > 200 and b > 200:\n",
    "        a = 0\n",
    "    nova_imagem.append((r, g, b, a))\n",
    "\n",
    "# Atualize a imagem com o novo conteúdo\n",
    "imagem.putdata(nova_imagem)\n",
    "\n",
    "# Salve a nova imagem com fundo transparente em formato PNG\n",
    "imagem.save('nova_imagem.png', 'PNG')\n"
   ]
  },
  {
   "cell_type": "code",
   "execution_count": 7,
   "metadata": {},
   "outputs": [],
   "source": [
    "from PIL import Image\n",
    "\n",
    "# Carregue a imagem existente\n",
    "imagem = Image.open('nova_imagem.png')\n",
    "\n",
    "# Converta a imagem para o modo RGBA (RGB + canal alfa)\n",
    "imagem = imagem.convert('RGBA')\n",
    "\n",
    "# Obtenha os pixels da imagem\n",
    "pixels = imagem.getdata()\n",
    "\n",
    "# Crie uma nova imagem com os pixels não brancos convertidos para preto\n",
    "nova_imagem = []\n",
    "for pixel in pixels:\n",
    "    r, g, b, a = pixel\n",
    "    # Verifique se a cor não está próxima de branco (defina seu limite)\n",
    "    limite = 200  # Isso pode ser ajustado de acordo com suas necessidades\n",
    "    if r > limite or g > limite or b > limite:\n",
    "        nova_imagem.append((0, 0, 0, a))  # Converta para preto\n",
    "    else:\n",
    "        nova_imagem.append((r, g, b, a))  # Mantenha inalterado\n",
    "\n",
    "# Atualize a imagem com o novo conteúdo\n",
    "imagem.putdata(nova_imagem)\n",
    "\n",
    "# Salve a nova imagem com os pixels não brancos convertidos para preto em formato PNG\n",
    "imagem.save('nova_imagem.png', 'PNG')\n"
   ]
  }
 ],
 "metadata": {
  "kernelspec": {
   "display_name": "Python 3",
   "language": "python",
   "name": "python3"
  },
  "language_info": {
   "codemirror_mode": {
    "name": "ipython",
    "version": 3
   },
   "file_extension": ".py",
   "mimetype": "text/x-python",
   "name": "python",
   "nbconvert_exporter": "python",
   "pygments_lexer": "ipython3",
   "version": "3.10.12"
  },
  "orig_nbformat": 4
 },
 "nbformat": 4,
 "nbformat_minor": 2
}
