{
 "cells": [
  {
   "cell_type": "markdown",
   "metadata": {},
   "source": [
    "Aqui estão as metricas obtidas em cada modelo de classificação e regressão com seus respectivos datasets e métricas próprias.\n",
    "\n",
    "As discussões se encontram no relatório.pdf que está nessa pasta 'Trabalho_ICA'.\n",
    "\n",
    "Os códigos estão na extensão .ipynb, assim também podem ser executados no google colab ou jupyter notebook."
   ]
  },
  {
   "cell_type": "markdown",
   "metadata": {},
   "source": [
    "# Imports"
   ]
  },
  {
   "cell_type": "code",
   "execution_count": 14,
   "metadata": {},
   "outputs": [],
   "source": [
    "import pickle\n",
    "import os\n",
    "import glob\n",
    "import pandas as pd"
   ]
  },
  {
   "cell_type": "markdown",
   "metadata": {},
   "source": [
    "# Classification"
   ]
  },
  {
   "cell_type": "code",
   "execution_count": 15,
   "metadata": {},
   "outputs": [
    {
     "name": "stdout",
     "output_type": "stream",
     "text": [
      "========================= METRICAS DE ALGUNS CLASSIFICADORES-DATA: HEA =========================\n",
      "{'Acc Naive Bayes': 0.8611111111111112, 'Precisao Naive Bayes': 0.9090909090909091, 'Recall Naive Bayes': 0.8333333333333334, 'F1 Naive Bayes': 0.8695652173913043}\n",
      "{'Acc SVM polinomial': 0.8796296296296297, 'Precisao SVM polinomial': 0.9433962264150944, 'Recall SVM polinomial': 0.8333333333333334, 'F1 SVM polinomial': 0.8849557522123894}\n",
      "{'Acc SVM Linear': 0.8425925925925926, 'Precisao SVM Linear': 0.9215686274509803, 'Recall SVM Linear': 0.7833333333333333, 'F1 SVM Linear': 0.8468468468468469}\n",
      "{'Acc MLP': 0.8240740740740741, 'Precisao MLP': 0.9183673469387755, 'Recall MLP': 0.75, 'F1 MLP': 0.8256880733944955}\n",
      "{'Acc SVM rbf': 0.8518518518518519, 'Precisao SVM rbf': 0.9230769230769231, 'Recall SVM rbf': 0.8, 'F1 SVM rbf': 0.8571428571428571}\n",
      "\n",
      "\n",
      "========================= METRICAS DE ALGUNS CLASSIFICADORES-DATA: SMILE =========================\n",
      "{'Acurácia (MLP)': 0.8263598326359832, 'Recall (MLP)': 1.0, 'Precisão (MLP)': 0.8263598326359832, 'F1-Score (MLP)': 0.9049255441008017}\n",
      "{'Acurácia (RF)': 0.9764644351464435, 'Recall (RF)': 0.9911392405063291, 'Precisão (RF)': 0.9805886036318097, 'F1-Score (RF)': 0.9858356940509915}\n",
      "{'Acurácia (NB)': 0.8263598326359832, 'Recall (NB)': 1.0, 'Precisão (NB)': 0.8263598326359832, 'F1-Score (NB)': 0.9049255441008017}\n",
      "\n",
      "\n",
      "========================= METRICAS DE ALGUNS CLASSIFICADORES-DATA: YING-YANG =========================\n",
      "{'Acurácia (RF)': 0.9866946778711485, 'Recall (RF)': 0.9874476987447699, 'F1-Score (RF)': 0.9867595818815331, 'Precisão (RF)': 0.9860724233983287}\n",
      "{'Acc SVM polinomial': 0.8172268907563025, 'Precisao SVM polinomial': 0.8877551020408163, 'Recall SVM polinomial': 0.7280334728033473, 'F1 SVM polinomial': 0.8}\n",
      "{'Acurácia (NB)': 0.792016806722689, 'Recall (NB)': 0.793584379358438, 'F1-Score (NB)': 0.7930313588850174, 'Precisão (NB)': 0.7924791086350975}\n",
      "{'Acc SVM Linear': 0.8186274509803921, 'Precisao SVM Linear': 0.8119891008174387, 'Recall SVM Linear': 0.8312412831241283, 'F1 SVM Linear': 0.8215024121295658}\n",
      "{'Acc SVM rbf': 0.9033613445378151, 'Precisao SVM rbf': 0.9004149377593361, 'Recall SVM rbf': 0.9079497907949791, 'F1 SVM rbf': 0.9041666666666667}\n"
     ]
    }
   ],
   "source": [
    "#dataset1: hea\n",
    "nomes_arquivos = glob.glob(os.path.join('datasets/classifier/hea', '*.pkl'))\n",
    "objetos = []\n",
    "\n",
    "for caminho_arquivo in nomes_arquivos:\n",
    "    with open(caminho_arquivo, 'rb') as arquivo:\n",
    "        objeto = pickle.load(arquivo)\n",
    "        objetos.append(objeto)\n",
    "\n",
    "\n",
    "#dataset2: smile\n",
    "nomes_arquivos2 = glob.glob(os.path.join('datasets/classifier/smile', '*.pkl'))\n",
    "objetos2 = []\n",
    "\n",
    "for caminho_arquivo2 in nomes_arquivos2:\n",
    "    with open(caminho_arquivo2, 'rb') as arquivo:\n",
    "        objeto = pickle.load(arquivo)\n",
    "        objetos2.append(objeto)\n",
    "\n",
    "\n",
    "#dataset3: ying yang\n",
    "nomes_arquivos3 = glob.glob(os.path.join('datasets/classifier/ying_yang', '*.pkl'))\n",
    "objetos3 = []\n",
    "\n",
    "for caminho_arquivo3 in nomes_arquivos3:\n",
    "    with open(caminho_arquivo3, 'rb') as arquivo:\n",
    "        objeto = pickle.load(arquivo)\n",
    "        objetos3.append(objeto)\n",
    "\n",
    "\n",
    "print('========================= METRICAS DE ALGUNS CLASSIFICADORES-DATA: HEA =========================')\n",
    "\n",
    "for objeto in objetos:\n",
    "    print(objeto)\n",
    "   \n",
    "\n",
    "print('\\n\\n========================= METRICAS DE ALGUNS CLASSIFICADORES-DATA: SMILE =========================')\n",
    "\n",
    "for objeto2 in objetos2:\n",
    "    print(objeto2)\n",
    "\n",
    "print('\\n\\n========================= METRICAS DE ALGUNS CLASSIFICADORES-DATA: YING-YANG =========================')\n",
    "\n",
    "for objeto3 in objetos3:\n",
    "    print(objeto3)\n"
   ]
  },
  {
   "cell_type": "markdown",
   "metadata": {},
   "source": [
    "# Regressão"
   ]
  },
  {
   "cell_type": "code",
   "execution_count": 16,
   "metadata": {},
   "outputs": [
    {
     "name": "stdout",
     "output_type": "stream",
     "text": [
      "===================== METRICAS DE ALGUNS ALGORITMOS DE REGRESSÃO-DATA: HALF_ELIPSE =====================\n",
      "{'MSE': 0.25302105709956674, 'RMSE': 0.5030119850456515, 'MAE': 0.38467789974654965, 'R²': -0.03177708780714017}\n",
      "{'MSE': 0.05542837561971052, 'RMSE': 0.23543231643024395, 'MAE': 0.20258129501854247, 'R²': 0.7739724565442774}\n",
      "{'MSE': 0.24522792618842548, 'RMSE': 0.49520493352593475, 'MAE': 0.39238259311589285, 'R²': 1.982316786275362e-06}\n",
      "\n",
      "\n",
      "======================== METRICAS DE ALGUNS ALGORITMOS DE REGRESSÃO-DATA: MOTOR ========================\n",
      "{'MSE': 2380.274508276652, 'R²': 0.0598004290634776}\n",
      "{'MSE': 2380.274508276652, 'RMSE': 48.7880570250205, 'MAE': 38.71527955926051, 'R²': 0.0598004290634776}\n",
      "{'MSE': 573.7106310553542, 'RMSE': 23.952257326927544, 'MAE': 17.031011461208987, 'R²': 0.7733864361928156}\n"
     ]
    }
   ],
   "source": [
    "# dataset1: half_elipse\n",
    "nomes_arquivos4 = glob.glob(os.path.join('datasets/regression/half_elipse', '*.pkl'))\n",
    "objetos4 = []\n",
    "\n",
    "for caminho_arquivo in nomes_arquivos4:\n",
    "    with open(caminho_arquivo, 'rb') as arquivo:\n",
    "        objeto = pickle.load(arquivo)\n",
    "        objetos4.append(objeto)\n",
    "\n",
    "print('===================== METRICAS DE ALGUNS ALGORITMOS DE REGRESSÃO-DATA: HALF_ELIPSE =====================')\n",
    "for objeto4 in objetos4:\n",
    "    print(objeto4)\n",
    "\n",
    "# dataset2: motor\n",
    "nomes_arquivos5 = glob.glob(os.path.join('datasets/regression/motor', '*.pkl'))\n",
    "objetos5 = []\n",
    "\n",
    "for caminho_arquivo2 in nomes_arquivos5:\n",
    "    with open(caminho_arquivo2, 'rb') as arquivo:\n",
    "        objeto = pickle.load(arquivo)\n",
    "        objetos5.append(objeto)\n",
    "\n",
    "print('\\n\\n======================== METRICAS DE ALGUNS ALGORITMOS DE REGRESSÃO-DATA: MOTOR ========================')\n",
    "for objeto5 in objetos5:\n",
    "    print(objeto5)"
   ]
  }
 ],
 "metadata": {
  "kernelspec": {
   "display_name": "Python 3",
   "language": "python",
   "name": "python3"
  },
  "language_info": {
   "codemirror_mode": {
    "name": "ipython",
    "version": 3
   },
   "file_extension": ".py",
   "mimetype": "text/x-python",
   "name": "python",
   "nbconvert_exporter": "python",
   "pygments_lexer": "ipython3",
   "version": "3.10.12"
  },
  "orig_nbformat": 4
 },
 "nbformat": 4,
 "nbformat_minor": 2
}
