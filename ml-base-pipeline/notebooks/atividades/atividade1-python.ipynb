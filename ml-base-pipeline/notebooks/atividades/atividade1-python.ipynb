{
 "cells": [
  {
   "cell_type": "markdown",
   "metadata": {},
   "source": [
    "# Revisão de Python"
   ]
  },
  {
   "cell_type": "markdown",
   "metadata": {},
   "source": [
    "As soluções devem ser desenvolvidas e demonstradas sua funcionalidade usando um Notebook (.ipynb). As questões que fazem perguntas sobre dados devem ser respondidas algoritimicamente e não por inspeção."
   ]
  },
  {
   "cell_type": "markdown",
   "metadata": {},
   "source": [
    "Dica de revisão de Python: https://nbviewer.org/github/justmarkham/python-reference/blob/master/reference.ipynb"
   ]
  },
  {
   "cell_type": "markdown",
   "metadata": {},
   "source": [
    "## 1\n",
    "Crie uma função que recebe como entrada uma string e retorna essa string com a primeira letra de cada palavra maiúscula. E.g.:\n",
    "\n",
    "**Entrada:** 'Eu gosto de estudar Python'\n",
    "\n",
    "**Saída:** 'Eu Gosto De Estudar Python'"
   ]
  },
  {
   "cell_type": "code",
   "execution_count": 42,
   "metadata": {},
   "outputs": [
    {
     "name": "stdout",
     "output_type": "stream",
     "text": [
      "Eu Gosto De Estudar Python\n"
     ]
    }
   ],
   "source": [
    "import string\n",
    "x = \"Eu gosto de estudar Python\"\n",
    "y = string.capwords(x)\n",
    "print(y)"
   ]
  },
  {
   "cell_type": "markdown",
   "metadata": {},
   "source": [
    "## 2\n",
    "Crie uma função que recebe como entrada uma string e uma lista de palavras e retorna a string filtrando as palavras presentes na lista, desconsiderando se as letras são maiúsculas ou minúsculas. E.g.:\n",
    "\n",
    "**Entrada:** 'Eu gosto de estudar Python', ['python', 'java', 'c++', 'de']\n",
    "\n",
    "**Saída:** 'Eu gosto estudar"
   ]
  },
  {
   "cell_type": "code",
   "execution_count": 43,
   "metadata": {},
   "outputs": [
    {
     "data": {
      "text/plain": [
       "'eu gosto'"
      ]
     },
     "execution_count": 43,
     "metadata": {},
     "output_type": "execute_result"
    }
   ],
   "source": [
    "def str_list_filter(phrase, word_list):\n",
    "    phrases = phrase.split() #separando phrase\n",
    "\n",
    "    for word in word_list:\n",
    "      for word2, i in zip(phrases,range(len(phrases))): \n",
    "        if word2 == word:\n",
    "          del phrases[i]\n",
    "    return ' '.join(phrases)\n",
    "  \n",
    "\n",
    "str_list_filter('eu gosto de python',['python','de','c'])"
   ]
  },
  {
   "cell_type": "markdown",
   "metadata": {},
   "source": [
    "# 3\n",
    "Crie uma função que recebe como entrada uma lista de números e retorna a média aritimética desses números. Faça um tratamento de erro para o caso de um valor da lista não seja um número. E.g.:\n",
    "\n",
    "**Entrada:** [10, 1,'teste', 4]\n",
    "\n",
    "**Saída:** 5"
   ]
  },
  {
   "cell_type": "code",
   "execution_count": 44,
   "metadata": {},
   "outputs": [
    {
     "name": "stdout",
     "output_type": "stream",
     "text": [
      "5.0\n"
     ]
    }
   ],
   "source": [
    "import re\n",
    "import numpy as np\n",
    "\n",
    "list_m =[10,1,'teste',4]\n",
    "\n",
    "def mean_list(list):\n",
    "    list_filter= [i for i in list if isinstance(i, (int, float))]\n",
    "    x = np.mean(list_filter)\n",
    "    return x\n",
    "\n",
    "\n",
    "print(mean_list(list_m))"
   ]
  },
  {
   "cell_type": "markdown",
   "metadata": {},
   "source": [
    "## 4\n",
    "\n",
    "Crie uma função que recebe como entrada uma lista de números e uma string que indica se será retornado a média ou o somatório desses números. Faça um tratamento de erro para o caso de um valor da lista não seja um número ou a string seja um valor inesperado. E.g.:\n",
    "\n",
    "**Entrada:** [10, 1, 4], 'média'\n",
    "\n",
    "**Saída:** 5\n",
    "\n",
    "ou\n",
    "\n",
    "**Entrada:** [10, 1, 4], 'soma'\n",
    "\n",
    "**Saída:** 15"
   ]
  },
  {
   "cell_type": "code",
   "execution_count": 45,
   "metadata": {},
   "outputs": [
    {
     "data": {
      "text/plain": [
       "15"
      ]
     },
     "execution_count": 45,
     "metadata": {},
     "output_type": "execute_result"
    }
   ],
   "source": [
    "def mean_sum(list_number,m_s):\n",
    "    if m_s in ['media','média','Media','Média']:\n",
    "        return np.mean(list_number)\n",
    "    \n",
    "    if m_s in ['Soma','soma']:\n",
    "        return np.sum(list_number)\n",
    "    \n",
    "    else:\n",
    "        return 0\n",
    "    \n",
    "#mean_sum([10, 1, 4], 'média')\n",
    "mean_sum([10, 1, 4], 'soma')\n"
   ]
  },
  {
   "cell_type": "markdown",
   "metadata": {},
   "source": [
    "## 5\n",
    "\n",
    "Crie uma função que recebe como entrada uma lista de valores e uma string que indica se será retornado a quantidade de valores únicos ou os valores únicos em si. Faça tratamento de erro para o caso de uma string inesperada. E.g.:\n",
    "\n",
    "**Entrada:** ['cachorro', 'tamanduá', 'cassaco', 'tamanduá', 'preá', 'cassaco'], 'n_unicos'\n",
    "\n",
    "**Saída:** 4\n",
    "\n",
    "ou\n",
    "\n",
    "**Entrada:** ['cachorro', 'tamanduá', 'cassaco', 'tamanduá', 'preá', 'cassaco'], 'unicos'\n",
    "\n",
    "**Saída:** ['cachorro', 'tamanduá', 'cassaco', 'preá']"
   ]
  },
  {
   "cell_type": "code",
   "execution_count": 46,
   "metadata": {},
   "outputs": [
    {
     "data": {
      "text/plain": [
       "4"
      ]
     },
     "execution_count": 46,
     "metadata": {},
     "output_type": "execute_result"
    }
   ],
   "source": [
    "def valour_unicos(list_strg,obj_quant):\n",
    "    if obj_quant in ['unicos']:\n",
    "        return sorted(set(list_strg))\n",
    "    \n",
    "    if obj_quant in ['n_unicos']:\n",
    "     y = sorted(set(list_strg))\n",
    "     return len(y)\n",
    "    \n",
    "\n",
    "#valour_unicos(['cachorro', 'tamanduá', 'cassaco', 'tamanduá', 'preá', 'cassaco'], 'unicos')\n",
    "valour_unicos(['cachorro', 'tamanduá', 'cassaco', 'tamanduá', 'preá', 'cassaco'], 'n_unicos')"
   ]
  },
  {
   "cell_type": "markdown",
   "metadata": {},
   "source": [
    "## 6\n",
    "\n",
    "Considere o arquivo atividade1.txt. Faça a leitura do conteúdo do arquivo e armazene-o em uma string. Qual a quantidade total de palavras e a quantidade de palavras únicas?\n",
    "\n"
   ]
  },
  {
   "cell_type": "code",
   "execution_count": 49,
   "metadata": {},
   "outputs": [
    {
     "name": "stdout",
     "output_type": "stream",
     "text": [
      "Conteudo: Izaquela Liberato Quantidade de Elementos: 2\n"
     ]
    }
   ],
   "source": [
    "w = []\n",
    "\n",
    "\n",
    "with open(\"atividade1.txt\", \"r\") as arquivo:\n",
    "   texto = arquivo.read()\n",
    "\n",
    "\n",
    "word = texto.split(\" \") #divide a linha em palavras\n",
    "w = len(word)\n",
    "\n",
    "\n",
    "print('Conteudo:',texto, 'Quantidade de Elementos:',w)"
   ]
  }
 ],
 "metadata": {
  "kernelspec": {
   "display_name": "Python 3.8.10 ('lead')",
   "language": "python",
   "name": "python3"
  },
  "language_info": {
   "codemirror_mode": {
    "name": "ipython",
    "version": 3
   },
   "file_extension": ".py",
   "mimetype": "text/x-python",
   "name": "python",
   "nbconvert_exporter": "python",
   "pygments_lexer": "ipython3",
   "version": "3.10.6"
  },
  "orig_nbformat": 4,
  "vscode": {
   "interpreter": {
    "hash": "38e5fe7ecc99d38adb7d1c802392d03d60c6132471d1c683e8e69274aaf892a0"
   }
  }
 },
 "nbformat": 4,
 "nbformat_minor": 2
}
