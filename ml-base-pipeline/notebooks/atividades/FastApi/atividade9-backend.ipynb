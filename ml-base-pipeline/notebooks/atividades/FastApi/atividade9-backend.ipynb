{
 "cells": [
  {
   "attachments": {},
   "cell_type": "markdown",
   "metadata": {},
   "source": [
    "# 1\n",
    "Utilize o conjunto de dados [Go To College Dataset](https://www.kaggle.com/datasets/saddamazyazy/go-to-college-dataset) ou um conjunto de dados de **classificação supervisionada** de sua escolha."
   ]
  },
  {
   "cell_type": "code",
   "execution_count": 11,
   "metadata": {},
   "outputs": [],
   "source": [
    "from sklearn.model_selection import train_test_split\n",
    "from sklearn.tree import DecisionTreeClassifier\n",
    "from sklearn.metrics import accuracy_score, recall_score\n",
    "import uvicorn\n",
    "from fastapi import FastAPI\n",
    "import pandas as pd\n",
    "import numpy as np"
   ]
  },
  {
   "cell_type": "code",
   "execution_count": 12,
   "metadata": {},
   "outputs": [],
   "source": [
    "app = FastAPI()\n",
    "\n",
    "def main():\n",
    "    return {'message': 'Geek!'}\n",
    " \n",
    "# Defining path operation for /name endpoint\n",
    "@app.get('/{name}')\n",
    "def hello_name(name : str):\n",
    "    # Defining a function that takes only string as input and output the\n",
    "    # following message.\n",
    "    return {'message': f'Welcome to GeeksforGeeks!, {name}'}"
   ]
  },
  {
   "attachments": {},
   "cell_type": "markdown",
   "metadata": {},
   "source": [
    "# 2\n",
    "Salve o melhor modelo. O melhor modelo deve ser escolhido após EDA, treino, otimização de hiperparâmetros e avaliação de resultados."
   ]
  },
  {
   "attachments": {},
   "cell_type": "markdown",
   "metadata": {},
   "source": [
    "# 3\n",
    "\n",
    "Crie uma API utilizando FastAPI ou outro framework, e faça o deploy no Heroku."
   ]
  }
 ],
 "metadata": {
  "kernelspec": {
   "display_name": "Python 3.8.10 ('lead')",
   "language": "python",
   "name": "python3"
  },
  "language_info": {
   "codemirror_mode": {
    "name": "ipython",
    "version": 3
   },
   "file_extension": ".py",
   "mimetype": "text/x-python",
   "name": "python",
   "nbconvert_exporter": "python",
   "pygments_lexer": "ipython3",
   "version": "3.10.6"
  },
  "orig_nbformat": 4,
  "vscode": {
   "interpreter": {
    "hash": "38e5fe7ecc99d38adb7d1c802392d03d60c6132471d1c683e8e69274aaf892a0"
   }
  }
 },
 "nbformat": 4,
 "nbformat_minor": 2
}
